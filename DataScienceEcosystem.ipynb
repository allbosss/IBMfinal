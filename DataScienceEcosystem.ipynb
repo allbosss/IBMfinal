{
 "cells": [
  {
   "cell_type": "markdown",
   "id": "906d2260-b63d-4102-8ad4-0faf7866de1a",
   "metadata": {},
   "source": [
    "# Data Science Tools and Ecosystem"
   ]
  },
  {
   "cell_type": "markdown",
   "id": "40f954c3-ccc0-4273-bce7-2eb50eae33ad",
   "metadata": {},
   "source": [
    "# In this notebook, Data Science Tools and Ecosystem are summarized."
   ]
  },
  {
   "cell_type": "markdown",
   "id": "ea000523-8056-4197-a4f0-a645e232bf59",
   "metadata": {},
   "source": [
    "# Some of the popular languages that Data Scientists use are:\n",
    "1. Python\n",
    "2. R\n",
    "3. Julia"
   ]
  },
  {
   "cell_type": "markdown",
   "id": "7078e61a-93e2-43d8-99e6-237c3f5dea3c",
   "metadata": {},
   "source": [
    "|Data Science Tools|\n",
    "|------------------|\n",
    "| Jupyter Notebook |\n",
    "| VS Code          |\n",
    "| Pycharm          |"
   ]
  },
  {
   "cell_type": "markdown",
   "id": "384c4685-cb96-4a1b-afd7-bc6539ecb152",
   "metadata": {},
   "source": [
    "### A few examples of evaluating arithmetic expressions in Python.\n",
    "# This demonstrates a simple arithmetic expression involving multiplication and addition.\n",
    "(3 * 4) + 5\n",
    "9 * 7 + 3\n",
    "8 + 9 + 5"
   ]
  },
  {
   "cell_type": "code",
   "execution_count": 1,
   "id": "04516b7b-0d6c-4334-a62c-f02110601847",
   "metadata": {
    "tags": []
   },
   "outputs": [
    {
     "name": "stdout",
     "output_type": "stream",
     "text": [
      "17\n"
     ]
    }
   ],
   "source": [
    "# This is a simple arithmetic expression to multiply then add integers.\n",
    "result = (3 * 4) + 5\n",
    "print(result)"
   ]
  },
  {
   "cell_type": "code",
   "execution_count": 2,
   "id": "5fdb2ca2-ff36-47a7-b938-bafc8caf9c18",
   "metadata": {
    "tags": []
   },
   "outputs": [
    {
     "name": "stdout",
     "output_type": "stream",
     "text": [
      "3.3333333333333335\n"
     ]
    }
   ],
   "source": [
    "# This will convert 200 minutes to hours by dividing by 60.\n",
    "minutes = 200\n",
    "hours = minutes / 60\n",
    "print(hours)"
   ]
  },
  {
   "cell_type": "markdown",
   "id": "9d67a2b3-b719-4ab6-9faf-5655cb66655d",
   "metadata": {},
   "source": [
    "# **Objectives:**\n",
    "- List popular languages for Data Science\n",
    "- Introduce common libraries in Data Science\n",
    "- Showcase common Data Science tools"
   ]
  },
  {
   "cell_type": "markdown",
   "id": "0e07ddfb-26d8-4bf5-989f-735857762886",
   "metadata": {},
   "source": [
    "## Author\n",
    "Melikşah Mercan"
   ]
  }
 ],
 "metadata": {
  "kernelspec": {
   "display_name": "Python",
   "language": "python",
   "name": "conda-env-python-py"
  },
  "language_info": {
   "codemirror_mode": {
    "name": "ipython",
    "version": 3
   },
   "file_extension": ".py",
   "mimetype": "text/x-python",
   "name": "python",
   "nbconvert_exporter": "python",
   "pygments_lexer": "ipython3",
   "version": "3.7.12"
  }
 },
 "nbformat": 4,
 "nbformat_minor": 5
}
